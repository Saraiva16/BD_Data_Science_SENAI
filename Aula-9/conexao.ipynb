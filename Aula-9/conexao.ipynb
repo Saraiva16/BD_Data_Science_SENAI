{
 "cells": [
  {
   "cell_type": "code",
   "execution_count": 17,
   "id": "ff5f926e-0f70-4200-a15d-d844bf85d55b",
   "metadata": {},
   "outputs": [],
   "source": [
    "import pyodbc\n",
    "import pandas as pd"
   ]
  },
  {
   "cell_type": "code",
   "execution_count": 18,
   "id": "d3fc19f6-b73d-47ef-b2bd-2a9e2c37dbe8",
   "metadata": {},
   "outputs": [
    {
     "name": "stdout",
     "output_type": "stream",
     "text": [
      "['SQL Server', 'SQL Server Native Client RDA 11.0', 'ODBC Driver 17 for SQL Server', 'Microsoft Access dBASE Driver (*.dbf, *.ndx, *.mdx)']\n"
     ]
    }
   ],
   "source": [
    "print(pyodbc.drivers())"
   ]
  },
  {
   "cell_type": "code",
   "execution_count": 22,
   "id": "931ebfd3-58a5-4b9d-a1a3-3c7ad884dcfb",
   "metadata": {},
   "outputs": [],
   "source": [
    "dados_conexao = ('Driver={ODBC Driver 17 for SQL Server};'\n",
    "                'Server=LOCALHOST;'\n",
    "                'Database=PizzaSENAI;'\n",
    "                'Trusted_Connection=yes;')\n",
    "conexao = pyodbc.connect(dados_conexao)"
   ]
  },
  {
   "cell_type": "code",
   "execution_count": 26,
   "id": "50713079-fc33-427f-83be-28c30f36df9d",
   "metadata": {},
   "outputs": [],
   "source": [
    "conexao = pyodbc.connect(dados_conexao)\n",
    "cursor = conexao.cursor()"
   ]
  },
  {
   "cell_type": "code",
   "execution_count": 27,
   "id": "c7b150ff-e5ac-4923-8d54-e1ce509e2a31",
   "metadata": {},
   "outputs": [],
   "source": [
    "consulta = \"\"\"\n",
    "SELECT PE.PEDIDO_ID, PE.CLIENTE_ID, CL.NOME, CL.ENDERECO, CL.BAIRRO, CL.CIDADE, PE.DATA_PEDIDO, PE.VALOR FROM PEDIDO AS PE INNER JOIN CLIENTE AS CL ON PE.CLIENTE_ID = CL.CLIENTE_ID WHERE PE.DATA_PEDIDO >= '18/12/2023' AND PE.DATA_PEDIDO <= '20/12/2023'\n",
    "\"\"\""
   ]
  },
  {
   "cell_type": "code",
   "execution_count": 28,
   "id": "3cad36c5-bc52-47f4-9b0e-d7fb76fd2143",
   "metadata": {},
   "outputs": [
    {
     "name": "stdout",
     "output_type": "stream",
     "text": [
      "(5, 2, 'Maria Oliveira', 'Avenida Atlântica', 'Copacabana', 'Rio de Janeiro', datetime.date(2023, 12, 18), Decimal('45.0000'))\n",
      "(6, 3, 'Pedro Souza', 'Rua Afonso Pena', 'Centro', 'Belo Horizonte', datetime.date(2023, 12, 18), Decimal('44.0000'))\n",
      "(7, 4, 'Ana Beatriz Ramos', 'Travessa Oliveira', 'Água Verde', 'Curitiba', datetime.date(2023, 12, 19), Decimal('72.0000'))\n",
      "(8, 6, 'Carla Mendes Ferreira', 'Rua do Sol', 'Meireles', 'Fortaleza', datetime.date(2023, 12, 19), Decimal('34.0000'))\n"
     ]
    }
   ],
   "source": [
    "cursor.execute(consulta)\n",
    "\n",
    "for linha in cursor.fetchall():\n",
    "    print(linha)\n",
    "\n",
    "cursor.close()\n",
    "conexao.close()"
   ]
  },
  {
   "cell_type": "code",
   "execution_count": null,
   "id": "45302958-e693-4045-a764-846e03573601",
   "metadata": {},
   "outputs": [],
   "source": []
  }
 ],
 "metadata": {
  "kernelspec": {
   "display_name": "Python 3 (ipykernel)",
   "language": "python",
   "name": "python3"
  },
  "language_info": {
   "codemirror_mode": {
    "name": "ipython",
    "version": 3
   },
   "file_extension": ".py",
   "mimetype": "text/x-python",
   "name": "python",
   "nbconvert_exporter": "python",
   "pygments_lexer": "ipython3",
   "version": "3.12.7"
  }
 },
 "nbformat": 4,
 "nbformat_minor": 5
}
